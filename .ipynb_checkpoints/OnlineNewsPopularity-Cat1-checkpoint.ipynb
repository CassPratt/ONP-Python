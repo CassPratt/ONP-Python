{
 "cells": [
  {
   "cell_type": "markdown",
   "metadata": {},
   "source": [
    "# Online News Popularity\n",
    "### Primera aplicacion: Lineal (KNN)\n",
    "#### MD - Otono 2016"
   ]
  },
  {
   "cell_type": "code",
   "execution_count": 1,
   "metadata": {
    "collapsed": true
   },
   "outputs": [],
   "source": [
    "'''\n",
    "    PAQUETES UTILIZADOS\n",
    "'''\n",
    "# Manejo de base de datos\n",
    "import pandas as pd\n",
    "from sklearn.cross_validation import train_test_split\n",
    "\n",
    "# Manejo de datos numericos y fechas\n",
    "import matplotlib.pyplot as plt\n",
    "import numpy as np\n",
    "import datetime as dt\n",
    "from calendar import monthrange\n",
    "\n",
    "# Estandarizacion y clasificacion\n",
    "from sklearn.neighbors import KNeighborsClassifier\n",
    "from sklearn.preprocessing import StandardScaler\n",
    "\n",
    "# Seleccion de atributos\n",
    "from sklearn.decomposition import PCA\n",
    "from sklearn.svm import LinearSVC\n",
    "from sklearn.feature_selection import SelectFromModel\n",
    "\n",
    "%matplotlib inline"
   ]
  },
  {
   "cell_type": "code",
   "execution_count": 2,
   "metadata": {
    "collapsed": false
   },
   "outputs": [],
   "source": [
    "'''\n",
    "    FUNCION leeBD\n",
    "    Lee un archivo .csv\n",
    "    Regresa la base de datos como panda Serie \"base\"\n",
    "'''\n",
    "def leeBD():\n",
    "    # Lectura de la base de datos\n",
    "    #base = pd.read_csv('OnlineNewsPopularity-Modified.csv', sep=\",\")\n",
    "    base = pd.read_csv('OnlineNewsPopularity-Cat.csv', sep=\",\")\n",
    "    base = base.copy()\n",
    "    return base "
   ]
  },
  {
   "cell_type": "code",
   "execution_count": 3,
   "metadata": {
    "collapsed": false
   },
   "outputs": [],
   "source": [
    "'''\n",
    "    FUNCION rangoTimedelta\n",
    "    Recibe el timedelta de una observacion (noticia) en la base de datos\n",
    "    Regresa los valores minimo y maximo del timedelta para acotar un periodo, \"minDelta\" y \"maxDelta\"\n",
    "'''\n",
    "def rangoTimedelta(delta,periodo):\n",
    "    # Fecha de adquisicion de los datos: January 8, 2015 (Thursday)\n",
    "    dataAcq = dt.datetime(2015, 1, 8, 0, 0)\n",
    "    \n",
    "    # Fecha real de la noticia con base en el timedelta\n",
    "    fechaNoticia = dataAcq - dt.timedelta(days=delta)\n",
    "    # Dia de la semana y numero de semana correspondiente a la fecha\n",
    "    dia = fechaNoticia.weekday()\n",
    "    semana = fechaNoticia.isocalendar()[1]\n",
    "    print fechaNoticia, \" Dia: \", dia, \", \",periodo\n",
    "    \n",
    "    if periodo == 'semana':\n",
    "        # Obtener la fecha de inicio y fin de la semana\n",
    "        inicio = fechaNoticia - dt.timedelta(days=fechaNoticia.weekday())\n",
    "        fin = inicio + dt.timedelta(days=7)\n",
    "    else:\n",
    "        # Obtener la fecha de inicio y fin del mes\n",
    "        mes = fechaNoticia.month\n",
    "        anio = fechaNoticia.year\n",
    "        dias = np.max(monthrange(anio,mes))\n",
    "        inicio = dt.datetime(anio, mes, 1, 0, 0)\n",
    "        fin = dt.datetime(anio, mes, dias, 0, 0)\n",
    "\n",
    "    # Diferencia de fechas entre la noticia y el inicio y fin de semana\n",
    "    difInicio = fechaNoticia - inicio\n",
    "    difFin = fin - fechaNoticia\n",
    "    \n",
    "    # Obtener timedelta compatible con los valores en la base de datos\n",
    "    minDelta = delta - difInicio.days\n",
    "    maxDelta = delta + difFin.days + 1\n",
    "    \n",
    "    return minDelta, maxDelta"
   ]
  },
  {
   "cell_type": "code",
   "execution_count": 4,
   "metadata": {
    "collapsed": true
   },
   "outputs": [],
   "source": [
    "'''\n",
    "    FUNCION filtraBD\n",
    "    Recibe la base de datos \"base\"\n",
    "    Regresa una base \"base2\" filtrada por rango de tiempo\n",
    "'''\n",
    "def filtraBD(base,delta):\n",
    "    # Obtener los timedelta correspondientes a la semana de la fecha con timedelta \"delta\"\n",
    "    minDelta, maxDelta = rangoTimedelta(delta,'mes')\n",
    "    \n",
    "    # Filtrar la base por semana\n",
    "    rangoFecha = range(minDelta, maxDelta)\n",
    "    print \"Rango timedeltas: \", rangoFecha\n",
    "    base2 = base.loc[base['timedelta'].isin(rangoFecha)]\n",
    "    \n",
    "    return base2"
   ]
  },
  {
   "cell_type": "code",
   "execution_count": 5,
   "metadata": {
    "collapsed": true
   },
   "outputs": [],
   "source": [
    "'''\n",
    "    FUNCION conjEntrenamiento\n",
    "    Recibe una base de datos \"base2\"\n",
    "    Regresa el conjunto de entrenamiento \"base_X\" y el conjunto objetivo \"base_y\"\n",
    "'''\n",
    "def separaDatos(base):\n",
    "    # Copia de la base sin la primer columna ('url', atributo no predictivo) y sin la variable objetivo\n",
    "    # Matriz de entrenamiento\n",
    "    base_X = base.drop(base.columns[[0,1,len(base.columns)-1]], axis=1)\n",
    "\n",
    "    # Arreglo de valores objetivo (columna de valores objetivo 'shares')\n",
    "    base_y = np.asarray(base[base.columns[len(base.columns)-1]].tolist())\n",
    "    \n",
    "    return base_X, base_y"
   ]
  },
  {
   "cell_type": "code",
   "execution_count": 6,
   "metadata": {
    "collapsed": true
   },
   "outputs": [],
   "source": [
    "'''\n",
    "    FUNCION error_fn\n",
    "    Recibe el arreglo con valores a predecir \"X_predict\", el arreglo de valores esperados \"y_test\"\n",
    "        y el valor de tolerancia \"k\"\n",
    "    Regresa el porcentaje de acierto de la predicción\n",
    "'''\n",
    "def error_fn(y_predict, y_test, k):\n",
    "    i = 0\n",
    "    yei = 0\n",
    "    for i in range(len(y_predict)):\n",
    "        if np.absolute(y_predict[i] - y_test[i]) < k:\n",
    "            yei = yei + 1\n",
    "    return yei/float(len(y_predict))"
   ]
  },
  {
   "cell_type": "code",
   "execution_count": 7,
   "metadata": {
    "collapsed": false
   },
   "outputs": [
    {
     "name": "stdout",
     "output_type": "stream",
     "text": [
      "Forma de la base inicial:  (39644, 61)\n",
      "\n",
      "Forma de la base filtrada por tiempo:  (39644, 61)\n"
     ]
    }
   ],
   "source": [
    "'''\n",
    "    LECTURA DE LA BASE DE DATOS\n",
    "'''\n",
    "# Lectura de la base de datos\n",
    "base = leeBD()\n",
    "\n",
    "print \"Forma de la base inicial: \",base.shape\n",
    "\n",
    "base2 = base.copy()\n",
    "print \"\\nForma de la base filtrada por tiempo: \",base2.shape"
   ]
  },
  {
   "cell_type": "code",
   "execution_count": 8,
   "metadata": {
    "collapsed": false
   },
   "outputs": [
    {
     "name": "stdout",
     "output_type": "stream",
     "text": [
      "Forma de la base sin valores no-predictivos:  (39644, 58)\n"
     ]
    }
   ],
   "source": [
    "'''\n",
    "    OBTENCION DE LOS SUBCONJUNTOS CON VALORES PREDICTIVOS Y VALORES OBJETIVO\n",
    "    ***** TODAS LAS OBSERVACIONES *****\n",
    "'''\n",
    "# Separacion de conjuntos entrenamiento y valores objetivo\n",
    "base_X, base_y = separaDatos(base2)\n",
    "print \"Forma de la base sin valores no-predictivos: \",base_X.shape"
   ]
  },
  {
   "cell_type": "code",
   "execution_count": 9,
   "metadata": {
    "collapsed": false
   },
   "outputs": [
    {
     "name": "stdout",
     "output_type": "stream",
     "text": [
      "Explained variance ratio (first two components): [ 0.7628241   0.16383047]\n"
     ]
    },
    {
     "data": {
      "image/png": "[encoded data removed]",
      "text/plain": [
       "<matplotlib.figure.Figure at 0x103ec0350>"
      ]
     },
     "metadata": {},
     "output_type": "display_data"
    }
   ],
   "source": [
    "'''\n",
    "    ANALISIS DE COMPONENTES PRINCIPALES (PCA)\n",
    "    ***** TODAS LAS OBSERVACIONES *****\n",
    "'''\n",
    "# Numero de componentes\n",
    "pca = PCA(n_components=2)\n",
    "# Ajuste de datos\n",
    "X_r = pca.fit(base_X).transform(base_X)\n",
    "\n",
    "# Categorias para graficar\n",
    "target_names = ['A','B','C','D','E']\n",
    "y = np.zeros(len(base_y))\n",
    "i = 0\n",
    "for val in base_y:\n",
    "    if val == 'A':\n",
    "        y[i] = 0\n",
    "    elif val == 'B':\n",
    "        y[i] = 1\n",
    "    elif val == 'C':\n",
    "        y[i] = 2\n",
    "    elif val == 'D':\n",
    "        y[i] = 3\n",
    "    elif val == 'E':\n",
    "        y[i] = 4\n",
    "    i = i + 1\n",
    "\n",
    "# Graficacion\n",
    "print('Explained variance ratio (first two components): %s'\n",
    "      % str(pca.explained_variance_ratio_))\n",
    "\n",
    "plt.figure()\n",
    "colors = ['navy', 'turquoise', 'darkorange', 'red', 'green']\n",
    "lw = 2\n",
    "\n",
    "for color, i, target_name in zip(colors, [0, 1, 2, 3, 4], target_names):\n",
    "    plt.scatter(X_r[y == i, 0], X_r[y == i, 1], color=color, alpha=.8, lw=lw,\n",
    "                label=target_name)\n",
    "plt.legend(loc='best', shadow=False, scatterpoints=1)\n",
    "plt.title('PCA de ONP - Base completa')\n",
    "\n",
    "plt.show()"
   ]
  },
  {
   "cell_type": "code",
   "execution_count": 10,
   "metadata": {
    "collapsed": false
   },
   "outputs": [
    {
     "name": "stdout",
     "output_type": "stream",
     "text": [
      "Timedelta:  200\n",
      "2014-06-22 00:00:00  Dia:  6 ,  mes\n",
      "Rango timedeltas:  [179, 180, 181, 182, 183, 184, 185, 186, 187, 188, 189, 190, 191, 192, 193, 194, 195, 196, 197, 198, 199, 200, 201, 202, 203, 204, 205, 206, 207, 208]\n",
      "Forma de la base sin valores no-predictivos:  (1839, 58)\n"
     ]
    }
   ],
   "source": [
    "'''\n",
    "    OBTENCION DE LOS SUBCONJUNTOS CON VALORES PREDICTIVOS Y VALORES OBJETIVO\n",
    "    FILTRO POR MES\n",
    "'''\n",
    "# La fecha mas antigua es el 7 de enero del 2013 (timedelta = 731)\n",
    "# La fecha mas reciente es el 31 de diciembre del 2014 (timedelta = 8)\n",
    "# El timedelta 372 corresponde al inicio del 2014\n",
    "delta = 200\n",
    "print \"Timedelta: \", delta\n",
    "\n",
    "# Filtrado de la base de datos por semana\n",
    "base2 = filtraBD(base,delta)\n",
    "\n",
    "# Separacion de conjuntos entrenamiento y valores objetivo\n",
    "base_X, base_y = separaDatos(base2)\n",
    "print \"Forma de la base sin valores no-predictivos: \",base_X.shape"
   ]
  },
  {
   "cell_type": "code",
   "execution_count": 11,
   "metadata": {
    "collapsed": false
   },
   "outputs": [
    {
     "name": "stdout",
     "output_type": "stream",
     "text": [
      "Explained variance ratio (first two components): [ 0.68022549  0.16225059]\n"
     ]
    },
    {
     "data": {
      "image/png": "[encoded data removed]",
      "text/plain": [
       "<matplotlib.figure.Figure at 0x103a5c390>"
      ]
     },
     "metadata": {},
     "output_type": "display_data"
    }
   ],
   "source": [
    "'''\n",
    "    ANALISIS DE COMPONENTES PRINCIPALES (PCA)\n",
    "    ***** TODAS LAS OBSERVACIONES *****\n",
    "'''\n",
    "# Numero de componentes\n",
    "pca = PCA(n_components=2)\n",
    "# Ajuste de datos\n",
    "X_r = pca.fit(base_X).transform(base_X)\n",
    "\n",
    "# Categorias para graficar\n",
    "target_names = ['A','B','C','D','E']\n",
    "y = np.zeros(len(base_y))\n",
    "i = 0\n",
    "for val in base_y:\n",
    "    if val == 'A':\n",
    "        y[i] = 0\n",
    "    elif val == 'B':\n",
    "        y[i] = 1\n",
    "    elif val == 'C':\n",
    "        y[i] = 2\n",
    "    elif val == 'D':\n",
    "        y[i] = 3\n",
    "    elif val == 'E':\n",
    "        y[i] = 4\n",
    "    i = i + 1\n",
    "\n",
    "# Graficacion\n",
    "print('Explained variance ratio (first two components): %s'\n",
    "      % str(pca.explained_variance_ratio_))\n",
    "\n",
    "plt.figure()\n",
    "colors = ['navy', 'turquoise', 'darkorange', 'red', 'green']\n",
    "lw = 2\n",
    "\n",
    "for color, i, target_name in zip(colors, [0, 1, 2, 3, 4], target_names):\n",
    "    plt.scatter(X_r[y == i, 0], X_r[y == i, 1], color=color, alpha=.8, lw=lw,\n",
    "                label=target_name)\n",
    "plt.legend(loc='best', shadow=False, scatterpoints=1)\n",
    "plt.title('PCA de ONP - Base filtrada')\n",
    "\n",
    "plt.show()"
   ]
  },
  {
   "cell_type": "code",
   "execution_count": 12,
   "metadata": {
    "collapsed": false
   },
   "outputs": [
    {
     "name": "stdout",
     "output_type": "stream",
     "text": [
      "Forma de la base tras la seleccion de atributos:  (1839, 7)\n"
     ]
    }
   ],
   "source": [
    "'''\n",
    "    SELECCION DE ATRIBUTOS\n",
    "    Clasificación vectorial con soporte lineal\n",
    "    http://scikit-learn.org/stable/modules/generated/sklearn.svm.LinearSVC.html#sklearn.svm.LinearSVC\n",
    "'''\n",
    "# Corre maquina de soporte vectorial\n",
    "# Holgura = C\n",
    "lsvc = LinearSVC(C=0.01, dual=False).fit(base_X, base_y)\n",
    "\n",
    "# Seleccion de atributos de acuerdo a la importancia de los pesos\n",
    "model = SelectFromModel(lsvc, prefit=True)\n",
    "base_X_new = model.transform(base_X)\n",
    "\n",
    "print \"Forma de la base tras la seleccion de atributos: \",base_X_new.shape"
   ]
  },
  {
   "cell_type": "code",
   "execution_count": 13,
   "metadata": {
    "collapsed": true
   },
   "outputs": [],
   "source": [
    "'''\n",
    "    OBTENCION DE LOS SUBCONJUNTOS PARA ENTRENAMIENTO Y DE PRUEBA\n",
    "'''\n",
    "# Estandarización de los datos\n",
    "base_X_new = StandardScaler().fit_transform(base_X, base_y)\n",
    "\n",
    "# Obtenemos dos subconjuntos de datos (75% para entrenamiento, 25% para prueba)\n",
    "# len(X_train) = len(y_train)\n",
    "# len(X_test) = len(y_test)\n",
    "# Los índices de ambos conjuntos (train o test) se corresponden de acuerdo a la base de datos original\n",
    "X_train, X_test, y_train, y_test = train_test_split(base_X_new, base_y, test_size=0.25)"
   ]
  },
  {
   "cell_type": "code",
   "execution_count": 14,
   "metadata": {
    "collapsed": false,
    "scrolled": true
   },
   "outputs": [
    {
     "data": {
      "text/plain": [
       "KNeighborsClassifier(algorithm='auto', leaf_size=30, metric='minkowski',\n",
       "           metric_params=None, n_jobs=-1, n_neighbors=10, p=10,\n",
       "           weights='distance')"
      ]
     },
     "execution_count": 14,
     "metadata": {},
     "output_type": "execute_result"
    }
   ],
   "source": [
    "'''\n",
    "    EJECUCION DEL ALGORITMO PARA ENTRENAR LOS DATOS\n",
    "'''\n",
    "# Creación de una instancia de 'Neighbours Classifier'\n",
    "# Sin atributos, se analizan los datos y se eligen la mejor forma de obtener los k-vecinos\n",
    "neigh = KNeighborsClassifier(n_neighbors=10, weights='distance', algorithm='auto',metric='minkowski',p=10, n_jobs=-1)\n",
    "\n",
    "# Entrenamiento de los datos\n",
    "neigh.fit(X_train,y_train)"
   ]
  },
  {
   "cell_type": "code",
   "execution_count": 15,
   "metadata": {
    "collapsed": false
   },
   "outputs": [
    {
     "name": "stdout",
     "output_type": "stream",
     "text": [
      "Exactitud promedio:  0.376086956522\n"
     ]
    }
   ],
   "source": [
    "'''\n",
    "    PREDICCION CON EL SUBCONJUNTO DE PRUEBA\n",
    "'''\n",
    "# Predicción de valores objetivo con el conjunto de prueba\n",
    "# En teoría, y_predict debería ser igual a y_test\n",
    "#y_predict = neigh.predict(X_test)\n",
    "\n",
    "# Exactitud promedio de la predicción calculada con la librería\n",
    "accuracy = neigh.score(X_test, y_test)\n",
    "print 'Exactitud promedio: ', accuracy"
   ]
  },
  {
   "cell_type": "code",
   "execution_count": 16,
   "metadata": {
    "collapsed": false
   },
   "outputs": [
    {
     "name": "stdout",
     "output_type": "stream",
     "text": [
      "Máximo acierto con k = 170\n"
     ]
    },
    {
     "data": {
      "image/png": "[encoded data removed]",
      "text/plain": [
       "<matplotlib.figure.Figure at 0x10958eb90>"
      ]
     },
     "metadata": {},
     "output_type": "display_data"
    }
   ],
   "source": [
    "'''\n",
    "    OBTENCION DE UN K MAXIMO KNN\n",
    "    %Acierto vs. K\n",
    "'''\n",
    "# Cálculo de error para k vecinos (rango [100 : 50 : 1000])\n",
    "err_arr = []\n",
    "tamPaso = 10\n",
    "arr = np.arange(10, len(X_train)-tamPaso, tamPaso)\n",
    "for i in arr:\n",
    "    neigh = KNeighborsClassifier(n_neighbors=i, weights='distance', algorithm='auto', n_jobs=-1)\n",
    "    neigh.fit(X_train,y_train)\n",
    "    #y_predict = neigh.predict(X_test)\n",
    "    # Rango de tolerancia de 500 vecinos\n",
    "    err = neigh.score(X_test, y_test)\n",
    "    err_arr.append(err)\n",
    "\n",
    "# Graficación de resultados\n",
    "plt.scatter(arr, err_arr)\n",
    "\n",
    "# Encontrar el k máximo con esta prueba\n",
    "index = err_arr.index(max(err_arr))\n",
    "maxi = arr[index]\n",
    "print 'Máximo acierto con k =', maxi"
   ]
  },
  {
   "cell_type": "code",
   "execution_count": 17,
   "metadata": {
    "collapsed": false
   },
   "outputs": [
    {
     "name": "stdout",
     "output_type": "stream",
     "text": [
      "Exactitud promedio:  0.415217391304\n"
     ]
    }
   ],
   "source": [
    "'''\n",
    "    PRUEBAS DE MARGEN DE ERROR\n",
    "    Con el k máximo obtenido \"maxi\"\n",
    "'''\n",
    "neigh = KNeighborsClassifier(n_neighbors=maxi, weights='distance', algorithm='auto', n_jobs=-1)\n",
    "neigh.fit(X_train,y_train)\n",
    "#y_predict = neigh.predict(X_test)\n",
    "\n",
    "# Exactitud promedio de la predicción calculada con la librería\n",
    "accuracy = neigh.score(X_test, y_test)\n",
    "print 'Exactitud promedio: ', accuracy"
   ]
  },
  {
   "cell_type": "code",
   "execution_count": null,
   "metadata": {
    "collapsed": true
   },
   "outputs": [],
   "source": []
  }
 ],
 "metadata": {
  "anaconda-cloud": {},
  "kernelspec": {
   "display_name": "Python [Root]",
   "language": "python",
   "name": "Python [Root]"
  },
  "language_info": {
   "codemirror_mode": {
    "name": "ipython",
    "version": 2
   },
   "file_extension": ".py",
   "mimetype": "text/x-python",
   "name": "python",
   "nbconvert_exporter": "python",
   "pygments_lexer": "ipython2",
   "version": "2.7.12"
  }
 },
 "nbformat": 4,
 "nbformat_minor": 0
}
