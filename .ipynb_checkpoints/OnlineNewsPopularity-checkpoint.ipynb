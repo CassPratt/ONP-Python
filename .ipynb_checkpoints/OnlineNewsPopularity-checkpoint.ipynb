{
 "cells": [
  {
   "cell_type": "code",
   "execution_count": null,
   "metadata": {
    "collapsed": false
   },
   "outputs": [],
   "source": [
    "'''\n",
    "    LINKS REVISADOS CON EXPLICACIONES DE LA LIBRERIA sklearn.neighbors\n",
    "    \n",
    "    http://scikit-learn.org/stable/tutorial/statistical_inference/supervised_learning.html\n",
    "    http://scikit-learn.org/stable/auto_examples/neighbors/plot_classification.html#example-neighbors-plot-classification-py\n",
    "    http://scikit-learn.org/stable/modules/generated/sklearn.neighbors.KNeighborsClassifier.html#sklearn.neighbors.KNeighborsClassifier.score\n",
    "'''"
   ]
  },
  {
   "cell_type": "code",
   "execution_count": 2,
   "metadata": {
    "collapsed": false
   },
   "outputs": [],
   "source": [
    "'''\n",
    "    PAQUETES UTILIZADOS\n",
    "'''\n",
    "import pandas as pd\n",
    "from sklearn.cross_validation import train_test_split\n",
    "from sklearn.neighbors import KNeighborsClassifier\n",
    "from sklearn.preprocessing import StandardScaler\n",
    "import matplotlib.pyplot as plt\n",
    "import numpy as np\n",
    "%matplotlib inline"
   ]
  },
  {
   "cell_type": "code",
   "execution_count": 8,
   "metadata": {
    "collapsed": true
   },
   "outputs": [],
   "source": [
    "'''\n",
    "    FUNCION error_fn\n",
    "    Recibe el arreglo con valores a predecir \"X_predict\", el arreglo de valores esperados \"y_test\"\n",
    "        y el valor de tolerancia \"k\"\n",
    "    Regresa el porcentaje de acierto de la predicción\n",
    "'''\n",
    "def error_fn(X_predict, y_test, k):\n",
    "    i = 0\n",
    "    yei = 0\n",
    "    for i in range(len(X_predict)):\n",
    "        if np.absolute(X_predict[i] - y_test[i]) < k:\n",
    "            yei = yei + 1\n",
    "    return yei/float(len(X_predict))"
   ]
  },
  {
   "cell_type": "code",
   "execution_count": 15,
   "metadata": {
    "collapsed": false
   },
   "outputs": [],
   "source": [
    "'''\n",
    "    OBTENCION DE LOS CONJUNTOS DE DATOS Y DE VALORES OBJETIVO\n",
    "'''\n",
    "# Lectura de la base de datos\n",
    "base = pd.read_csv('OnlineNewsPopularity.csv', sep=\",\")\n",
    "# Subconjunto: 10000 observaciones originales\n",
    "base2 = base[0:10000]\n",
    "\n",
    "# Copia de la base sin la primer columna ('url', atributo no predictivo) y sin la variable objetivo\n",
    "# Matriz de entrenamiento\n",
    "base_X = base2.drop(base.columns[[0,1,len(base2.columns)-1]], axis=1)\n",
    "\n",
    "# Arreglo de valores objetivo (columna de valores objetivo 'shares')\n",
    "base_y = np.asarray(base2[base2.columns[len(base2.columns)-1]].tolist())"
   ]
  },
  {
   "cell_type": "code",
   "execution_count": 19,
   "metadata": {
    "collapsed": false
   },
   "outputs": [],
   "source": [
    "'''\n",
    "    OBTENCION DE LOS SUBCONJUNTOS DE ENTRENAMIENTO Y DE PRUEBA\n",
    "'''\n",
    "# Obtenemos dos subconjuntos de datos (75% para entrenamiento, 25% para prueba)\n",
    "# len(X_train) = len(y_train) = 750\n",
    "# len(X_test) = len(y_test) = 250\n",
    "# Los índices de ambos conjuntos (train o test) se corresponden de acuerdo a la base de datos original\n",
    "X_train, X_test, y_train, y_test = train_test_split(base_X, base_y, test_size=0.25)\n",
    "\n",
    "# Estandarización de los datos con respecto a su subconjunto\n",
    "X_train = StandardScaler().fit_transform(X_train, y_train)\n",
    "X_test = StandardScaler().fit_transform(X_test, y_train)"
   ]
  },
  {
   "cell_type": "code",
   "execution_count": 20,
   "metadata": {
    "collapsed": false,
    "scrolled": true
   },
   "outputs": [
    {
     "data": {
      "text/plain": [
       "KNeighborsClassifier(algorithm='auto', leaf_size=30, metric='minkowski',\n",
       "           metric_params=None, n_jobs=1, n_neighbors=5, p=2,\n",
       "           weights='uniform')"
      ]
     },
     "execution_count": 20,
     "metadata": {},
     "output_type": "execute_result"
    }
   ],
   "source": [
    "'''\n",
    "    EJECUCION DEL ALGORITMO PARA ENTRENAR LOS DATOS\n",
    "'''\n",
    "# Creación de una instancia de 'Neighbours Classifier'\n",
    "# Sin atributos, se analizan los datos y se eligen la mejor forma de obtener los k-vecinos\n",
    "neigh = KNeighborsClassifier()\n",
    "#neigh = KNeighborsClassifier(n_neighbors=8, weights='distance', algorithm='auto', n_jobs=-1)\n",
    "\n",
    "# Entrenamiento de los datos\n",
    "neigh.fit(X_train,y_train)"
   ]
  },
  {
   "cell_type": "code",
   "execution_count": 21,
   "metadata": {
    "collapsed": false
   },
   "outputs": [
    {
     "name": "stdout",
     "output_type": "stream",
     "text": [
      "E:  0.0168\n"
     ]
    }
   ],
   "source": [
    "'''\n",
    "    PREDICCION CON EL SUBCONJUNTO DE PRUEBA\n",
    "'''\n",
    "# Predicción de valores objetivo con el conjunto de prueba\n",
    "# En teoría, X_test debería ser igual a y_test\n",
    "X_predict = neigh.predict(X_test)\n",
    "\n",
    "# Exactitud promedio de la predicción calculada con la librería\n",
    "accuracy = neigh.score(X_test, y_test)\n",
    "print 'E: ', accuracy"
   ]
  },
  {
   "cell_type": "code",
   "execution_count": 22,
   "metadata": {
    "collapsed": false
   },
   "outputs": [
    {
     "name": "stdout",
     "output_type": "stream",
     "text": [
      "Máximo acierto con k = 800\n"
     ]
    },
    {
     "data": {
      "image/png": "[encoded data removed]",
      "text/plain": [
       "<matplotlib.figure.Figure at 0x118adc850>"
      ]
     },
     "metadata": {},
     "output_type": "display_data"
    }
   ],
   "source": [
    "'''\n",
    "    OBTENCION DE UN K MAXIMO \n",
    "    %Acierto vs. K\n",
    "'''\n",
    "# Cálculo de error para k vecinos (rango [100 : 50 : 1000])\n",
    "err_arr = []\n",
    "arr = np.arange(100, 1050, 50)\n",
    "for i in arr:\n",
    "    neigh = KNeighborsClassifier(n_neighbors=i, n_jobs=-1)\n",
    "    neigh.fit(X_train,y_train)\n",
    "    X_predict = neigh.predict(X_test)\n",
    "    # Rango de tolerancia de 500 vecinos\n",
    "    err = error_fn(X_predict, y_test, 500)\n",
    "    err_arr.append(err)\n",
    "\n",
    "# Graficación de resultados\n",
    "plt.scatter(arr, err_arr)\n",
    "\n",
    "# Encontrar el k máximo con esta prueba\n",
    "maxi = err_arr.index(max(err_arr))\n",
    "maxi = arr[maxi]\n",
    "print 'Máximo acierto con k =', maxi"
   ]
  },
  {
   "cell_type": "code",
   "execution_count": null,
   "metadata": {
    "collapsed": false
   },
   "outputs": [],
   "source": [
    "'''\n",
    "    PRUEBAS DE MARGEN DE ERROR\n",
    "    Con el k máximo obtenido \"maxi\"\n",
    "'''\n",
    "neigh = KNeighborsClassifier(n_neighbors=maxi, n_jobs=-1)\n",
    "neigh.fit(X_train,y_train)\n",
    "X_predict = neigh.predict(X_test)"
   ]
  },
  {
   "cell_type": "code",
   "execution_count": 31,
   "metadata": {
    "collapsed": false
   },
   "outputs": [
    {
     "data": {
      "text/plain": [
       "<matplotlib.collections.PathCollection at 0x118ba3510>"
      ]
     },
     "execution_count": 31,
     "metadata": {},
     "output_type": "execute_result"
    },
    {
     "data": {
      "image/png": "[encoded data removed]",
      "text/plain": [
       "<matplotlib.figure.Figure at 0x1187ab110>"
      ]
     },
     "metadata": {},
     "output_type": "display_data"
    }
   ],
   "source": [
    "# Margen de error rango [100 : 100 : 2000]\n",
    "err_arr = []\n",
    "arr = np.arange(100, 5100, 100)\n",
    "for i in arr:\n",
    "    err = error_fn(X_predict, y_test, i)\n",
    "    err_arr.append(err)\n",
    "plt.scatter(arr, err_arr)"
   ]
  },
  {
   "cell_type": "code",
   "execution_count": 41,
   "metadata": {
    "collapsed": false
   },
   "outputs": [
    {
     "data": {
      "text/plain": [
       "array([ 100,  200,  300,  400,  500,  600,  700,  800,  900, 1000, 1100,\n",
       "       1200, 1300, 1400, 1500, 1600, 1700, 1800, 1900, 2000, 2100, 2200,\n",
       "       2300, 2400, 2500, 2600, 2700, 2800, 2900, 3000, 3100, 3200, 3300,\n",
       "       3400, 3500, 3600, 3700, 3800, 3900, 4000, 4100, 4200, 4300, 4400,\n",
       "       4500, 4600, 4700, 4800, 4900, 5000])"
      ]
     },
     "execution_count": 41,
     "metadata": {},
     "output_type": "execute_result"
    }
   ],
   "source": [
    "arr"
   ]
  },
  {
   "cell_type": "code",
   "execution_count": 42,
   "metadata": {
    "collapsed": false
   },
   "outputs": [
    {
     "data": {
      "text/plain": [
       "[0.0516,\n",
       " 0.1284,\n",
       " 0.2052,\n",
       " 0.2752,\n",
       " 0.3532,\n",
       " 0.4044,\n",
       " 0.454,\n",
       " 0.5076,\n",
       " 0.5432,\n",
       " 0.5812,\n",
       " 0.6128,\n",
       " 0.6436,\n",
       " 0.6672,\n",
       " 0.6848,\n",
       " 0.6984,\n",
       " 0.7148,\n",
       " 0.73,\n",
       " 0.7424,\n",
       " 0.754,\n",
       " 0.7648,\n",
       " 0.776,\n",
       " 0.784,\n",
       " 0.7932,\n",
       " 0.7996,\n",
       " 0.8088,\n",
       " 0.8156,\n",
       " 0.8192,\n",
       " 0.8264,\n",
       " 0.8312,\n",
       " 0.8384,\n",
       " 0.8424,\n",
       " 0.8496,\n",
       " 0.8556,\n",
       " 0.8604,\n",
       " 0.8656,\n",
       " 0.8688,\n",
       " 0.8748,\n",
       " 0.8792,\n",
       " 0.882,\n",
       " 0.8832,\n",
       " 0.8856,\n",
       " 0.8888,\n",
       " 0.8896,\n",
       " 0.8924,\n",
       " 0.894,\n",
       " 0.8968,\n",
       " 0.898,\n",
       " 0.9004,\n",
       " 0.902,\n",
       " 0.904]"
      ]
     },
     "execution_count": 42,
     "metadata": {},
     "output_type": "execute_result"
    }
   ],
   "source": [
    "err_arr"
   ]
  },
  {
   "cell_type": "code",
   "execution_count": null,
   "metadata": {
    "collapsed": true
   },
   "outputs": [],
   "source": []
  }
 ],
 "metadata": {
  "anaconda-cloud": {},
  "kernelspec": {
   "display_name": "Python [Root]",
   "language": "python",
   "name": "Python [Root]"
  },
  "language_info": {
   "codemirror_mode": {
    "name": "ipython",
    "version": 2
   },
   "file_extension": ".py",
   "mimetype": "text/x-python",
   "name": "python",
   "nbconvert_exporter": "python",
   "pygments_lexer": "ipython2",
   "version": "2.7.12"
  }
 },
 "nbformat": 4,
 "nbformat_minor": 0
}
