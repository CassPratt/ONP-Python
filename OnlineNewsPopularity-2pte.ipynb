{
 "cells": [
  {
   "cell_type": "markdown",
   "metadata": {},
   "source": [
    "# Online News Popularity"
   ]
  },
  {
   "cell_type": "markdown",
   "metadata": {},
   "source": [
    "Importar paquetes"
   ]
  },
  {
   "cell_type": "code",
   "execution_count": 1,
   "metadata": {
    "collapsed": false
   },
   "outputs": [],
   "source": [
    "import pandas as pd\n",
    "from sklearn.cross_validation import train_test_split\n",
    "from sklearn.neighbors import KNeighborsClassifier\n",
    "from sklearn.preprocessing import StandardScaler\n",
    "\n",
    "from sklearn.cluster import KMeans\n",
    "\n",
    "import matplotlib.pyplot as plt\n",
    "import numpy as np\n",
    "import datetime as dt\n",
    "from calendar import monthrange\n",
    "from sklearn.ensemble import ExtraTreesClassifier\n",
    "from sklearn.feature_selection import SelectFromModel\n",
    "\n",
    "%matplotlib inline"
   ]
  },
  {
   "cell_type": "markdown",
   "metadata": {},
   "source": [
    "FUNCION leeBD: Regresa la base de datos \"base\" con valores numéricos"
   ]
  },
  {
   "cell_type": "code",
   "execution_count": 2,
   "metadata": {
    "collapsed": false
   },
   "outputs": [],
   "source": [
    "def leeBD():\n",
    "    # Lectura de la base de datos\n",
    "    #base = pd.read_csv('OnlineNewsPopularity-Modified.csv', sep=\",\")\n",
    "    base = pd.read_csv('OnlineNewsPopularity.csv', sep=\",\")\n",
    "    base = base.copy()\n",
    "    return base "
   ]
  },
  {
   "cell_type": "code",
   "execution_count": 3,
   "metadata": {
    "collapsed": false
   },
   "outputs": [
    {
     "data": {
      "text/plain": [
       "\"\\n    # Convertir dia de la semana de str a num \\n    # Lunes es el 0\\n    weekdays = np.array(base.weekday.unique())\\n    for val in weekdays:\\n        base.ix[base['weekday'] == val, 'weekday'] = np.where(weekdays==val)\\n\\n    # Convertir tipo de noticias de str a num\\n    # ['Entertainment', 'Business', 'Tech', 'LifeStyle', 'World', 'Unknown', 'SocMed']\\n    channels = np.array(base.data_channel.unique())\\n    for val in channels:\\n        base.ix[base['data_channel'] == val, 'data_channel'] = np.where(channels==val)  \\n\""
      ]
     },
     "execution_count": 3,
     "metadata": {},
     "output_type": "execute_result"
    }
   ],
   "source": [
    "'''\n",
    "    # Convertir dia de la semana de str a num \n",
    "    # Lunes es el 0\n",
    "    weekdays = np.array(base.weekday.unique())\n",
    "    for val in weekdays:\n",
    "        base.ix[base['weekday'] == val, 'weekday'] = np.where(weekdays==val)\n",
    "\n",
    "    # Convertir tipo de noticias de str a num\n",
    "    # ['Entertainment', 'Business', 'Tech', 'LifeStyle', 'World', 'Unknown', 'SocMed']\n",
    "    channels = np.array(base.data_channel.unique())\n",
    "    for val in channels:\n",
    "        base.ix[base['data_channel'] == val, 'data_channel'] = np.where(channels==val)  \n",
    "'''"
   ]
  },
  {
   "cell_type": "markdown",
   "metadata": {},
   "source": [
    "FUNCION rangoTimedelta"
   ]
  },
  {
   "cell_type": "markdown",
   "metadata": {},
   "source": [
    "Recibe el timedelta de una noticia y regresa los valores minimo y maximo del timedelta para acotar una semana, \"minDelta\" y \"maxDelta\""
   ]
  },
  {
   "cell_type": "code",
   "execution_count": 4,
   "metadata": {
    "collapsed": false
   },
   "outputs": [],
   "source": [
    "def rangoTimedelta(delta,periodo):\n",
    "    # Fecha de adquisicion de los datos: January 8, 2015 (Thursday)\n",
    "    dataAcq = dt.datetime(2015, 1, 8, 0, 0)\n",
    "    \n",
    "    # Fecha real de la noticia con base en el timedelta\n",
    "    fechaNoticia = dataAcq - dt.timedelta(days=delta)\n",
    "    # Dia de la semana y numero de semana correspondiente a la fecha\n",
    "    dia = fechaNoticia.weekday()\n",
    "    semana = fechaNoticia.isocalendar()[1]\n",
    "    print fechaNoticia, \" Dia: \", dia, \", \",periodo,\": \",semana\n",
    "    \n",
    "    if periodo == 'semana':\n",
    "        # Obtener la fecha de inicio y fin de la semana\n",
    "        inicio = fechaNoticia - dt.timedelta(days=fechaNoticia.weekday())\n",
    "        fin = inicio + dt.timedelta(days=7)\n",
    "    else:\n",
    "        # Obtener la fecha de inicio y fin del mes\n",
    "        mes = fechaNoticia.month\n",
    "        anio = fechaNoticia.year\n",
    "        dias = np.max(monthrange(anio,mes))\n",
    "        inicio = dt.datetime(anio, mes, 1, 0, 0)\n",
    "        fin = dt.datetime(anio, mes, dias, 0, 0)\n",
    "\n",
    "    # Diferencia de fechas entre la noticia y el inicio y fin de semana\n",
    "    difInicio = fechaNoticia - inicio\n",
    "    difFin = fin - fechaNoticia\n",
    "    \n",
    "    # Obtener timedelta compatible con los valores en la base de datos\n",
    "    minDelta = delta - difInicio.days\n",
    "    maxDelta = delta + difFin.days + 1\n",
    "    \n",
    "    return minDelta, maxDelta"
   ]
  },
  {
   "cell_type": "markdown",
   "metadata": {},
   "source": [
    "FUNCION filtraBD"
   ]
  },
  {
   "cell_type": "markdown",
   "metadata": {},
   "source": [
    "Recibe la base de datos \"base\" y regresa una base \"base2\" filtrada por rango de tiempo"
   ]
  },
  {
   "cell_type": "code",
   "execution_count": 5,
   "metadata": {
    "collapsed": true
   },
   "outputs": [],
   "source": [
    "def filtraBD(base,delta):\n",
    "    # Obtener los timedelta correspondientes a la semana de la fecha con timedelta \"delta\"\n",
    "    minDelta, maxDelta = rangoTimedelta(delta,'mes')\n",
    "    \n",
    "    # Filtrar la base por semana\n",
    "    rangoFecha = range(minDelta, maxDelta)\n",
    "    print \"Rango timedeltas: \", rangoFecha\n",
    "    base2 = base.loc[base['timedelta'].isin(rangoFecha)]\n",
    "    \n",
    "    return base2"
   ]
  },
  {
   "cell_type": "markdown",
   "metadata": {},
   "source": [
    "FUNCION conjEntrenamiento"
   ]
  },
  {
   "cell_type": "markdown",
   "metadata": {},
   "source": [
    "Recibe una base de datos \"base2\" y regresa el conjunto de entrenamiento \"base_X\" y el conjunto objetivo \"base_y\""
   ]
  },
  {
   "cell_type": "code",
   "execution_count": 6,
   "metadata": {
    "collapsed": true
   },
   "outputs": [],
   "source": [
    "def limpiaDatos(base):\n",
    "    # Copia de la base sin la primer columna ('url', atributo no predictivo) y sin la variable objetivo\n",
    "    # Matriz de entrenamiento\n",
    "    base_X = base.drop(base.columns[[0,1,len(base.columns)-1]], axis=1)\n",
    "\n",
    "    # Arreglo de valores objetivo (columna de valores objetivo 'shares')\n",
    "    base_y = np.asarray(base[base.columns[len(base.columns)-1]].tolist())\n",
    "    \n",
    "    return base_X, base_y"
   ]
  },
  {
   "cell_type": "markdown",
   "metadata": {},
   "source": [
    "FUNCION error_fn"
   ]
  },
  {
   "cell_type": "markdown",
   "metadata": {},
   "source": [
    "Recibe el arreglo con valores a predecir \"X_predict\", el arreglo de valores esperados \"y_test\"\n",
    "        y el valor de tolerancia \"k\" y regresa el porcentaje de acierto de la predicción"
   ]
  },
  {
   "cell_type": "code",
   "execution_count": 7,
   "metadata": {
    "collapsed": true
   },
   "outputs": [],
   "source": [
    "def error_fn(y_predict, y_test, k):\n",
    "    i = 0\n",
    "    yei = 0\n",
    "    for i in range(len(y_predict)):\n",
    "        if np.absolute(y_predict[i] - y_test[i]) < k:\n",
    "            yei = yei + 1\n",
    "    return yei/float(len(y_predict))"
   ]
  },
  {
   "cell_type": "markdown",
   "metadata": {},
   "source": [
    "# OBTENCION DE LOS CONJUNTOS DE DATOS Y DE VALORES OBJETIVO"
   ]
  },
  {
   "cell_type": "code",
   "execution_count": 8,
   "metadata": {
    "collapsed": false
   },
   "outputs": [
    {
     "name": "stdout",
     "output_type": "stream",
     "text": [
      "Forma de la base inicial:  (39644, 61)\n",
      "Timedelta:  200\n",
      "2014-06-22 00:00:00  Dia:  6 ,  mes :  25\n",
      "Rango timedeltas:  [179, 180, 181, 182, 183, 184, 185, 186, 187, 188, 189, 190, 191, 192, 193, 194, 195, 196, 197, 198, 199, 200, 201, 202, 203, 204, 205, 206, 207, 208]\n",
      "\n",
      "Forma de la base filtrada por tiempo:  (1839, 61)\n"
     ]
    }
   ],
   "source": [
    "# Lectura de la base de datos\n",
    "base = leeBD()\n",
    "\n",
    "print \"Forma de la base inicial: \",base.shape\n",
    "\n",
    "# La fecha mas antigua es el 7 de enero del 2013 (timedelta = 731)\n",
    "# La fecha mas reciente es el 31 de diciembre del 2014 (timedelta = 8)\n",
    "# El timedelta 372 corresponde al inicio del 2014\n",
    "delta = 200\n",
    "print \"Timedelta: \", delta\n",
    "\n",
    "# Filtrado de la base de datos por semana\n",
    "base2 = filtraBD(base,delta)\n",
    "print \"\\nForma de la base filtrada por tiempo: \",base2.shape"
   ]
  },
  {
   "cell_type": "markdown",
   "metadata": {},
   "source": [
    "# OBTENCION DE LOS SUBCONJUNTOS CON VALORES PREDICTIVOS Y VALORES OBJETIVO"
   ]
  },
  {
   "cell_type": "code",
   "execution_count": 9,
   "metadata": {
    "collapsed": false
   },
   "outputs": [
    {
     "name": "stdout",
     "output_type": "stream",
     "text": [
      "Forma de la base sin valores no-predictivos:  (1839, 58)\n"
     ]
    }
   ],
   "source": [
    "# Separacion de conjuntos entrenamiento y valores objetivo\n",
    "base_X, base_y = limpiaDatos(base2)\n",
    "print \"Forma de la base sin valores no-predictivos: \",base_X.shape"
   ]
  },
  {
   "cell_type": "markdown",
   "metadata": {},
   "source": [
    "# SELECCION DE ATRIBUTOS BASADA EN ÁRBOL"
   ]
  },
  {
   "cell_type": "code",
   "execution_count": 10,
   "metadata": {
    "collapsed": false
   },
   "outputs": [
    {
     "name": "stdout",
     "output_type": "stream",
     "text": [
      "Forma de la base tras la seleccion de atributos:  (1839L, 39L)\n"
     ]
    }
   ],
   "source": [
    "\n",
    "clf = ExtraTreesClassifier()\n",
    "clf = clf.fit(base_X, base_y)\n",
    "model = SelectFromModel(clf, prefit=True)\n",
    "base_X_new = model.transform(base_X)\n",
    "print \"Forma de la base tras la seleccion de atributos: \",base_X_new.shape"
   ]
  },
  {
   "cell_type": "markdown",
   "metadata": {},
   "source": [
    "# OBTENCION DE LOS SUBCONJUNTOS PARA ENTRENAMIENTO Y DE PRUEBA"
   ]
  },
  {
   "cell_type": "code",
   "execution_count": 11,
   "metadata": {
    "collapsed": true
   },
   "outputs": [],
   "source": [
    "# Obtenemos dos subconjuntos de datos (75% para entrenamiento, 25% para prueba)\n",
    "# len(X_train) = len(y_train)\n",
    "# len(X_test) = len(y_test)\n",
    "# Los índices de ambos conjuntos (train o test) se corresponden de acuerdo a la base de datos original\n",
    "X_train, X_test, y_train, y_test = train_test_split(base_X_new, base_y, test_size=0.25)\n",
    "\n",
    "# Estandarización de los datos con respecto a su subconjunto\n",
    "X_train = StandardScaler().fit_transform(X_train, y_train)\n",
    "X_test = StandardScaler().fit_transform(X_test, y_test)"
   ]
  },
  {
   "cell_type": "markdown",
   "metadata": {},
   "source": [
    "# EJECUCION DEL ALGORITMO PARA ENTRENAR LOS DATOS"
   ]
  },
  {
   "cell_type": "code",
   "execution_count": 12,
   "metadata": {
    "collapsed": false,
    "scrolled": true
   },
   "outputs": [],
   "source": [
    "# Creación de una instancia de 'Neighbours Classifier'\n",
    "# Sin atributos, se analizan los datos y se eligen la mejor forma de obtener los k-vecinos\n",
    "neigh = KNeighborsClassifier()\n",
    "#neigh = KNeighborsClassifier(n_neighbors=8, weights='distance', algorithm='auto', n_jobs=-1)\n",
    "\n",
    "# Entrenamiento de los datos\n",
    "neigh = neigh.fit(X_train,y_train)"
   ]
  },
  {
   "cell_type": "markdown",
   "metadata": {},
   "source": [
    "# PREDICCION CON EL SUBCONJUNTO DE PRUEBA"
   ]
  },
  {
   "cell_type": "code",
   "execution_count": 13,
   "metadata": {
    "collapsed": false
   },
   "outputs": [
    {
     "name": "stdout",
     "output_type": "stream",
     "text": [
      "Exactitud promedio:  0.0173913043478\n"
     ]
    }
   ],
   "source": [
    "# Predicción de valores objetivo con el conjunto de prueba\n",
    "# En teoría, y_predict debería ser igual a y_test\n",
    "y_predict = neigh.predict(X_test)\n",
    "\n",
    "# Exactitud promedio de la predicción calculada con la librería\n",
    "accuracy = neigh.score(X_test, y_test)\n",
    "print 'Exactitud promedio: ', accuracy"
   ]
  },
  {
   "cell_type": "markdown",
   "metadata": {},
   "source": [
    "# OBTENCION DE UN K MAXIMO KNN"
   ]
  },
  {
   "cell_type": "markdown",
   "metadata": {},
   "source": [
    "%Acierto vs. K"
   ]
  },
  {
   "cell_type": "code",
   "execution_count": 14,
   "metadata": {
    "collapsed": false
   },
   "outputs": [
    {
     "name": "stdout",
     "output_type": "stream",
     "text": [
      "Máximo acierto con k = 100\n"
     ]
    },
    {
     "data": {
      "image/png": "[encoded data removed]",
      "text/plain": [
       "<matplotlib.figure.Figure at 0x1085efd0>"
      ]
     },
     "metadata": {},
     "output_type": "display_data"
    }
   ],
   "source": [
    "# Cálculo de error para k vecinos (rango [100 : 50 : 1000])\n",
    "err_arr = []\n",
    "arr = np.arange(100, 1050, 50)\n",
    "for i in arr:\n",
    "    neigh = KNeighborsClassifier(n_neighbors=i, n_jobs=-1)\n",
    "    neigh.fit(X_train,y_train)\n",
    "    X_predict = neigh.predict(X_test)\n",
    "    # Rango de tolerancia de 500 vecinos\n",
    "    err = error_fn(y_predict, y_test, 500)\n",
    "    err_arr.append(err)\n",
    "\n",
    "# Graficación de resultados\n",
    "plt.scatter(arr, err_arr)\n",
    "\n",
    "# Encontrar el k máximo con esta prueba\n",
    "maxi = err_arr.index(max(err_arr))\n",
    "maxi = arr[maxi]\n",
    "print 'Máximo acierto con k =', maxi"
   ]
  },
  {
   "cell_type": "markdown",
   "metadata": {},
   "source": [
    "\n",
    "# PRUEBAS DE MARGEN DE ERROR"
   ]
  },
  {
   "cell_type": "markdown",
   "metadata": {},
   "source": [
    "Con el k máximo obtenido \"maxi\""
   ]
  },
  {
   "cell_type": "code",
   "execution_count": 15,
   "metadata": {
    "collapsed": false
   },
   "outputs": [],
   "source": [
    "neigh = KNeighborsClassifier(n_neighbors=maxi, n_jobs=-1)\n",
    "neigh.fit(X_train,y_train)\n",
    "y_predict = neigh.predict(X_test)"
   ]
  },
  {
   "cell_type": "code",
   "execution_count": 16,
   "metadata": {
    "collapsed": false,
    "scrolled": true
   },
   "outputs": [
    {
     "name": "stdout",
     "output_type": "stream",
     "text": [
      "Maximo acierto de prediccion:  0.813043478261\n",
      "Con K =  1839\n"
     ]
    },
    {
     "data": {
      "image/png": "[encoded data removed]",
      "text/plain": [
       "<matplotlib.figure.Figure at 0x1085ec88>"
      ]
     },
     "metadata": {},
     "output_type": "display_data"
    }
   ],
   "source": [
    "# Margen de error con rango de k = 50 hasta k = len(base2)\n",
    "err_arr = []\n",
    "arr = np.arange(50, len(base2)+1, 1)\n",
    "for i in arr:\n",
    "    err = error_fn(y_predict, y_test, i)\n",
    "    err_arr.append(err)\n",
    "plt.scatter(arr, err_arr)\n",
    "\n",
    "print \"Maximo acierto de prediccion: \", np.max(err_arr)\n",
    "print \"Con K = \", np.max(arr)"
   ]
  },
  {
   "cell_type": "code",
   "execution_count": null,
   "metadata": {
    "collapsed": true
   },
   "outputs": [],
   "source": []
  }
 ],
 "metadata": {
  "anaconda-cloud": {},
  "kernelspec": {
   "display_name": "Python [Root]",
   "language": "python",
   "name": "Python [Root]"
  },
  "language_info": {
   "codemirror_mode": {
    "name": "ipython",
    "version": 2
   },
   "file_extension": ".py",
   "mimetype": "text/x-python",
   "name": "python",
   "nbconvert_exporter": "python",
   "pygments_lexer": "ipython2",
   "version": "2.7.12"
  }
 },
 "nbformat": 4,
 "nbformat_minor": 0
}
