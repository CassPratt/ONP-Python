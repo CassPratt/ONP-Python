{
 "cells": [
  {
   "cell_type": "code",
   "execution_count": 1,
   "metadata": {
    "collapsed": false
   },
   "outputs": [],
   "source": [
    "'''\n",
    "    PAQUETES UTILIZADOS\n",
    "'''\n",
    "import pandas as pd\n",
    "from sklearn.cross_validation import train_test_split\n",
    "from sklearn.neighbors import KNeighborsClassifier\n",
    "from sklearn.preprocessing import StandardScaler\n",
    "import matplotlib.pyplot as plt\n",
    "import numpy as np\n",
    "import datetime as dt\n",
    "from calendar import monthrange\n",
    "%matplotlib inline"
   ]
  },
  {
   "cell_type": "code",
   "execution_count": 8,
   "metadata": {
    "collapsed": true
   },
   "outputs": [],
   "source": [
    "'''\n",
    "    FUNCION leeBD\n",
    "    Regresa la base de datos \"base\" con valores numéricos\n",
    "'''\n",
    "def leeBD():\n",
    "    # Lectura de la base de datos\n",
    "    #base = pd.read_csv('OnlineNewsPopularity-Modified.csv', sep=\",\")\n",
    "    base = pd.read_csv('OnlineNewsPopularity-Modified.csv', sep=\",\")\n",
    "    base = base.copy()\n",
    "\n",
    "    # Convertir dia de la semana de str a num \n",
    "    # Lunes es el 0\n",
    "    weekdays = np.array(base.weekday.unique())\n",
    "    for val in weekdays:\n",
    "        base.ix[base['weekday'] == val, 'weekday'] = np.where(weekdays==val)\n",
    "\n",
    "    # Convertir tipo de noticias de str a num\n",
    "    # ['Entertainment', 'Business', 'Tech', 'LifeStyle', 'World', 'Unknown', 'SocMed']\n",
    "    channels = np.array(base.data_channel.unique())\n",
    "    for val in channels:\n",
    "        base.ix[base['data_channel'] == val, 'data_channel'] = np.where(channels==val)  \n",
    "    \n",
    "    return base"
   ]
  },
  {
   "cell_type": "code",
   "execution_count": 9,
   "metadata": {
    "collapsed": false
   },
   "outputs": [],
   "source": [
    "'''\n",
    "    FUNCION rangoTimedelta\n",
    "    Recibe el timedelta de una noticia\n",
    "    Regresa los valores minimo y maximo del timedelta para acotar una semana, \"minDelta\" y \"maxDelta\"\n",
    "'''\n",
    "def rangoTimedelta(delta,periodo):\n",
    "    # Fecha de adquisicion de los datos: January 8, 2015 (Thursday)\n",
    "    dataAcq = dt.datetime(2015, 1, 8, 0, 0)\n",
    "    \n",
    "    # Fecha real de la noticia con base en el timedelta\n",
    "    fechaNoticia = dataAcq - dt.timedelta(days=delta)\n",
    "    # Dia de la semana y numero de semana correspondiente a la fecha\n",
    "    dia = fechaNoticia.weekday()\n",
    "    semana = fechaNoticia.isocalendar()[1]\n",
    "    print fechaNoticia, \" Dia: \", dia, \", #Semana: \",semana\n",
    "    \n",
    "    if periodo == 'semana':\n",
    "        # Obtener la fecha de inicio y fin de la semana\n",
    "        inicio = fechaNoticia - dt.timedelta(days=fechaNoticia.weekday())\n",
    "        fin = inicio + dt.timedelta(days=7)\n",
    "    else:\n",
    "        # Obtener la fecha de inicio y fin del mes\n",
    "        mes = fechaNoticia.month\n",
    "        anio = fechaNoticia.year\n",
    "        dias = np.max(monthrange(anio,mes))\n",
    "        inicio = dt.datetime(anio, mes, 1, 0, 0)\n",
    "        fin = dt.datetime(anio, mes, dias, 0, 0)\n",
    "\n",
    "    # Diferencia de fechas entre la noticia y el inicio y fin de semana\n",
    "    difInicio = fechaNoticia - inicio\n",
    "    difFin = fin - fechaNoticia\n",
    "    \n",
    "    # Obtener timedelta compatible con los valores en la base de datos\n",
    "    minDelta = delta - difInicio.days\n",
    "    maxDelta = delta + difFin.days + 1\n",
    "    \n",
    "    return minDelta, maxDelta"
   ]
  },
  {
   "cell_type": "code",
   "execution_count": 10,
   "metadata": {
    "collapsed": true
   },
   "outputs": [],
   "source": [
    "'''\n",
    "    FUNCION filtraBD\n",
    "    Recibe la base de datos \"base\"\n",
    "    Regresa una base \"base2\" filtrada \n",
    "'''\n",
    "def filtraBD(base,delta):\n",
    "    # Obtener los timedelta correspondientes a la semana de la fecha con timedelta \"delta\"\n",
    "    minDelta, maxDelta = rangoTimedelta(delta,'mes')\n",
    "    \n",
    "    # Filtrar la base por semana\n",
    "    rangoFecha = range(minDelta, maxDelta)\n",
    "    print \"Rango timedeltas: \", rangoFecha\n",
    "    base2 = base.loc[base['timedelta'].isin(rangoFecha)]\n",
    "    \n",
    "    return base2"
   ]
  },
  {
   "cell_type": "code",
   "execution_count": 11,
   "metadata": {
    "collapsed": true
   },
   "outputs": [],
   "source": [
    "'''\n",
    "    FUNCION conjEntrenamiento\n",
    "    Recibe una base de datos \"base2\"\n",
    "    Regresa el conjunto de entrenamiento \"base_X\" y el conjunto objetivo \"base_y\"\n",
    "'''\n",
    "def limpiaDatos(base):\n",
    "    # Copia de la base sin la primer columna ('url', atributo no predictivo) y sin la variable objetivo\n",
    "    # Matriz de entrenamiento\n",
    "    base_X = base.drop(base.columns[[0,1,len(base.columns)-1]], axis=1)\n",
    "\n",
    "    # Arreglo de valores objetivo (columna de valores objetivo 'shares')\n",
    "    base_y = np.asarray(base[base.columns[len(base.columns)-1]].tolist())\n",
    "    \n",
    "    return base_X, base_y"
   ]
  },
  {
   "cell_type": "code",
   "execution_count": 12,
   "metadata": {
    "collapsed": true
   },
   "outputs": [],
   "source": [
    "'''\n",
    "    FUNCION error_fn\n",
    "    Recibe el arreglo con valores a predecir \"X_predict\", el arreglo de valores esperados \"y_test\"\n",
    "        y el valor de tolerancia \"k\"\n",
    "    Regresa el porcentaje de acierto de la predicción\n",
    "'''\n",
    "def error_fn(X_predict, y_test, k):\n",
    "    i = 0\n",
    "    yei = 0\n",
    "    for i in range(len(X_predict)):\n",
    "        if np.absolute(X_predict[i] - y_test[i]) < k:\n",
    "            yei = yei + 1\n",
    "    return yei/float(len(X_predict))"
   ]
  },
  {
   "cell_type": "code",
   "execution_count": 13,
   "metadata": {
    "collapsed": false
   },
   "outputs": [
    {
     "name": "stdout",
     "output_type": "stream",
     "text": [
      "Timedelta:  527\n",
      "2013-07-30 00:00:00  Dia:  1 , #Semana:  31\n",
      "Rango timedeltas:  [498, 499, 500, 501, 502, 503, 504, 505, 506, 507, 508, 509, 510, 511, 512, 513, 514, 515, 516, 517, 518, 519, 520, 521, 522, 523, 524, 525, 526, 527, 528]\n",
      "\n",
      "Observaciones totales:  1611\n"
     ]
    }
   ],
   "source": [
    "'''\n",
    "    OBTENCION DE LOS CONJUNTOS DE DATOS Y DE VALORES OBJETIVO\n",
    "'''\n",
    "# Lectura de la base de datos\n",
    "base = leeBD()\n",
    "\n",
    "# La fecha mas antigua es el 7 de enero del 2013 (timedelta = 731)\n",
    "# La fecha mas reciente es el 31 de diciembre del 2014 (timedelta = 8)\n",
    "# El timedelta 372 corresponde al inicio del 2014\n",
    "delta = 527\n",
    "print \"Timedelta: \", delta\n",
    "\n",
    "# Filtrado de la base de datos por semana\n",
    "base2 = filtraBD(base,delta)\n",
    "print \"\\nObservaciones totales: \", len(base2)"
   ]
  },
  {
   "cell_type": "code",
   "execution_count": 14,
   "metadata": {
    "collapsed": false
   },
   "outputs": [],
   "source": [
    "'''\n",
    "    OBTENCION DE LOS SUBCONJUNTOS DE ENTRENAMIENTO Y DE PRUEBA\n",
    "'''\n",
    "# Separacion de conjuntos entrenamiento y valores objetivo\n",
    "base_X, base_y = limpiaDatos(base2)\n",
    "\n",
    "# Obtenemos dos subconjuntos de datos (75% para entrenamiento, 25% para prueba)\n",
    "# len(X_train) = len(y_train) = 750\n",
    "# len(X_test) = len(y_test) = 250\n",
    "# Los índices de ambos conjuntos (train o test) se corresponden de acuerdo a la base de datos original\n",
    "X_train, X_test, y_train, y_test = train_test_split(base_X, base_y, test_size=0.25)\n",
    "\n",
    "# Estandarización de los datos con respecto a su subconjunto\n",
    "X_train = StandardScaler().fit_transform(X_train, y_train)\n",
    "X_test = StandardScaler().fit_transform(X_test, y_train)"
   ]
  },
  {
   "cell_type": "code",
   "execution_count": 15,
   "metadata": {
    "collapsed": false,
    "scrolled": true
   },
   "outputs": [
    {
     "data": {
      "text/plain": [
       "KNeighborsClassifier(algorithm='auto', leaf_size=30, metric='minkowski',\n",
       "           metric_params=None, n_jobs=1, n_neighbors=5, p=2,\n",
       "           weights='uniform')"
      ]
     },
     "execution_count": 15,
     "metadata": {},
     "output_type": "execute_result"
    }
   ],
   "source": [
    "'''\n",
    "    EJECUCION DEL ALGORITMO PARA ENTRENAR LOS DATOS\n",
    "'''\n",
    "# Creación de una instancia de 'Neighbours Classifier'\n",
    "# Sin atributos, se analizan los datos y se eligen la mejor forma de obtener los k-vecinos\n",
    "neigh = KNeighborsClassifier()\n",
    "#neigh = KNeighborsClassifier(n_neighbors=8, weights='distance', algorithm='auto', n_jobs=-1)\n",
    "\n",
    "# Entrenamiento de los datos\n",
    "neigh.fit(X_train,y_train)"
   ]
  },
  {
   "cell_type": "code",
   "execution_count": 16,
   "metadata": {
    "collapsed": false
   },
   "outputs": [
    {
     "name": "stdout",
     "output_type": "stream",
     "text": [
      "E:  0.00744416873449\n"
     ]
    }
   ],
   "source": [
    "'''\n",
    "    PREDICCION CON EL SUBCONJUNTO DE PRUEBA\n",
    "'''\n",
    "# Predicción de valores objetivo con el conjunto de prueba\n",
    "# En teoría, X_test debería ser igual a y_test\n",
    "X_predict = neigh.predict(X_test)\n",
    "\n",
    "# Exactitud promedio de la predicción calculada con la librería\n",
    "accuracy = neigh.score(X_test, y_test)\n",
    "print 'E: ', accuracy"
   ]
  },
  {
   "cell_type": "code",
   "execution_count": 17,
   "metadata": {
    "collapsed": false
   },
   "outputs": [
    {
     "name": "stdout",
     "output_type": "stream",
     "text": [
      "Máximo acierto con k = 400\n"
     ]
    },
    {
     "data": {
      "image/png": "[encoded data removed]",
      "text/plain": [
       "<matplotlib.figure.Figure at 0x118a32810>"
      ]
     },
     "metadata": {},
     "output_type": "display_data"
    }
   ],
   "source": [
    "'''\n",
    "    OBTENCION DE UN K MAXIMO \n",
    "    %Acierto vs. K\n",
    "'''\n",
    "# Cálculo de error para k vecinos (rango [100 : 50 : 1000])\n",
    "err_arr = []\n",
    "arr = np.arange(100, 1050, 50)\n",
    "for i in arr:\n",
    "    neigh = KNeighborsClassifier(n_neighbors=i, n_jobs=-1)\n",
    "    neigh.fit(X_train,y_train)\n",
    "    X_predict = neigh.predict(X_test)\n",
    "    # Rango de tolerancia de 500 vecinos\n",
    "    err = error_fn(X_predict, y_test, 250)\n",
    "    err_arr.append(err)\n",
    "\n",
    "# Graficación de resultados\n",
    "plt.scatter(arr, err_arr)\n",
    "\n",
    "# Encontrar el k máximo con esta prueba\n",
    "maxi = err_arr.index(max(err_arr))\n",
    "maxi = arr[maxi]\n",
    "print 'Máximo acierto con k =', maxi"
   ]
  },
  {
   "cell_type": "code",
   "execution_count": 18,
   "metadata": {
    "collapsed": false
   },
   "outputs": [],
   "source": [
    "'''\n",
    "    PRUEBAS DE MARGEN DE ERROR\n",
    "    Con el k máximo obtenido \"maxi\"\n",
    "'''\n",
    "neigh = KNeighborsClassifier(n_neighbors=maxi, n_jobs=-1)\n",
    "neigh.fit(X_train,y_train)\n",
    "X_predict = neigh.predict(X_test)"
   ]
  },
  {
   "cell_type": "code",
   "execution_count": 19,
   "metadata": {
    "collapsed": false
   },
   "outputs": [
    {
     "data": {
      "text/plain": [
       "<matplotlib.collections.PathCollection at 0x1192f8410>"
      ]
     },
     "execution_count": 19,
     "metadata": {},
     "output_type": "execute_result"
    },
    {
     "data": {
      "image/png": "[encoded data removed]",
      "text/plain": [
       "<matplotlib.figure.Figure at 0x1179a2a50>"
      ]
     },
     "metadata": {},
     "output_type": "display_data"
    }
   ],
   "source": [
    "# Margen de error rango [100 : 100 : 2000]\n",
    "err_arr = []\n",
    "arr = np.arange(100, 5100, 100)\n",
    "for i in arr:\n",
    "    err = error_fn(X_predict, y_test, i)\n",
    "    err_arr.append(err)\n",
    "plt.scatter(arr, err_arr)"
   ]
  },
  {
   "cell_type": "code",
   "execution_count": 20,
   "metadata": {
    "collapsed": false
   },
   "outputs": [
    {
     "data": {
      "text/plain": [
       "array([ 100,  200,  300,  400,  500,  600,  700,  800,  900, 1000, 1100,\n",
       "       1200, 1300, 1400, 1500, 1600, 1700, 1800, 1900, 2000, 2100, 2200,\n",
       "       2300, 2400, 2500, 2600, 2700, 2800, 2900, 3000, 3100, 3200, 3300,\n",
       "       3400, 3500, 3600, 3700, 3800, 3900, 4000, 4100, 4200, 4300, 4400,\n",
       "       4500, 4600, 4700, 4800, 4900, 5000])"
      ]
     },
     "execution_count": 20,
     "metadata": {},
     "output_type": "execute_result"
    }
   ],
   "source": [
    "arr"
   ]
  },
  {
   "cell_type": "code",
   "execution_count": 21,
   "metadata": {
    "collapsed": false
   },
   "outputs": [
    {
     "data": {
      "text/plain": [
       "[0.04218362282878412,\n",
       " 0.15632754342431762,\n",
       " 0.2679900744416873,\n",
       " 0.3746898263027295,\n",
       " 0.47146401985111663,\n",
       " 0.5508684863523573,\n",
       " 0.6253101736972705,\n",
       " 0.6575682382133995,\n",
       " 0.6724565756823822,\n",
       " 0.6923076923076923,\n",
       " 0.707196029776675,\n",
       " 0.7245657568238213,\n",
       " 0.7320099255583127,\n",
       " 0.739454094292804,\n",
       " 0.749379652605459,\n",
       " 0.7593052109181141,\n",
       " 0.7642679900744417,\n",
       " 0.7741935483870968,\n",
       " 0.7816377171215881,\n",
       " 0.7841191066997518,\n",
       " 0.794044665012407,\n",
       " 0.7990074441687345,\n",
       " 0.8014888337468983,\n",
       " 0.8064516129032258,\n",
       " 0.8163771712158809,\n",
       " 0.8213399503722084,\n",
       " 0.826302729528536,\n",
       " 0.8337468982630273,\n",
       " 0.8337468982630273,\n",
       " 0.8362282878411911,\n",
       " 0.8362282878411911,\n",
       " 0.8486352357320099,\n",
       " 0.8560794044665012,\n",
       " 0.858560794044665,\n",
       " 0.8635235732009926,\n",
       " 0.8660049627791563,\n",
       " 0.8684863523573201,\n",
       " 0.8684863523573201,\n",
       " 0.8709677419354839,\n",
       " 0.8784119106699751,\n",
       " 0.8808933002481389,\n",
       " 0.8833746898263027,\n",
       " 0.8858560794044665,\n",
       " 0.8858560794044665,\n",
       " 0.8858560794044665,\n",
       " 0.8883374689826302,\n",
       " 0.8883374689826302,\n",
       " 0.8957816377171216,\n",
       " 0.9007444168734491,\n",
       " 0.9081885856079405]"
      ]
     },
     "execution_count": 21,
     "metadata": {},
     "output_type": "execute_result"
    }
   ],
   "source": [
    "err_arr"
   ]
  },
  {
   "cell_type": "code",
   "execution_count": null,
   "metadata": {
    "collapsed": true
   },
   "outputs": [],
   "source": []
  }
 ],
 "metadata": {
  "anaconda-cloud": {},
  "kernelspec": {
   "display_name": "Python [Root]",
   "language": "python",
   "name": "Python [Root]"
  },
  "language_info": {
   "codemirror_mode": {
    "name": "ipython",
    "version": 2
   },
   "file_extension": ".py",
   "mimetype": "text/x-python",
   "name": "python",
   "nbconvert_exporter": "python",
   "pygments_lexer": "ipython2",
   "version": "2.7.12"
  }
 },
 "nbformat": 4,
 "nbformat_minor": 0
}
