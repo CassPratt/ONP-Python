{
 "cells": [
  {
   "cell_type": "code",
   "execution_count": null,
   "metadata": {
    "collapsed": false
   },
   "outputs": [],
   "source": [
    "'''\n",
    "    LINKS REVISADOS CON EXPLICACIONES DE LA LIBRERIA sklearn.neighbors\n",
    "    \n",
    "    http://scikit-learn.org/stable/tutorial/statistical_inference/supervised_learning.html\n",
    "    http://scikit-learn.org/stable/auto_examples/neighbors/plot_classification.html#example-neighbors-plot-classification-py\n",
    "    http://scikit-learn.org/stable/modules/generated/sklearn.neighbors.KNeighborsClassifier.html#sklearn.neighbors.KNeighborsClassifier.score\n",
    "'''"
   ]
  },
  {
   "cell_type": "code",
   "execution_count": 11,
   "metadata": {
    "collapsed": false
   },
   "outputs": [],
   "source": [
    "'''\n",
    "    PAQUETES UTILIZADOS\n",
    "'''\n",
    "import pandas as pd\n",
    "from sklearn.cross_validation import train_test_split\n",
    "import numpy as np\n",
    "from sklearn.neighbors import KNeighborsClassifier\n",
    "from sklearn.preprocessing import StandardScaler"
   ]
  },
  {
   "cell_type": "code",
   "execution_count": 18,
   "metadata": {
    "collapsed": false
   },
   "outputs": [],
   "source": [
    "'''\n",
    "    OBTENCION DE LOS CONJUNTOS DE DATOS Y DE VALORES OBJETIVO\n",
    "'''\n",
    "# Lectura de la base de datos\n",
    "base = pd.read_csv('OnlineNewsPopularity.csv', sep=\",\")\n",
    "# Subconjunto: 1000 observaciones originales\n",
    "base2 = base[0:10000]\n",
    "\n",
    "# Copia de la base sin la primer columna ('url', atributo no predictivo) y sin la variable objetivo\n",
    "# Matriz de entrenamiento\n",
    "base_X = base2.drop(base.columns[[0,1,len(base2.columns)-1]], axis=1)\n",
    "\n",
    "# Arreglo de valores objetivo (columna de valores objetivo 'shares')\n",
    "base_y = np.asarray(base2[base2.columns[len(base2.columns)-1]].tolist())"
   ]
  },
  {
   "cell_type": "code",
   "execution_count": 19,
   "metadata": {
    "collapsed": false
   },
   "outputs": [],
   "source": [
    "'''\n",
    "    OBTENCION DE LOS SUBCONJUNTOS DE ENTRENAMIENTO Y DE PRUEBA\n",
    "'''\n",
    "# Obtenemos dos subconjuntos de datos (75% para entrenamiento, 25% para prueba)\n",
    "# len(X_train) = len(y_train) = 750\n",
    "# len(X_test) = len(y_test) = 250\n",
    "# Los índices de ambos conjuntos (train o test) se corresponden de acuerdo a la base de datos original\n",
    "X_train, X_test, y_train, y_test = train_test_split(base_X, base_y, test_size=0.25)"
   ]
  },
  {
   "cell_type": "code",
   "execution_count": 20,
   "metadata": {
    "collapsed": false,
    "scrolled": true
   },
   "outputs": [
    {
     "data": {
      "text/plain": [
       "KNeighborsClassifier(algorithm='auto', leaf_size=30, metric='minkowski',\n",
       "           metric_params=None, n_jobs=1, n_neighbors=5, p=2,\n",
       "           weights='uniform')"
      ]
     },
     "execution_count": 20,
     "metadata": {},
     "output_type": "execute_result"
    }
   ],
   "source": [
    "'''\n",
    "    EJECUCION DEL ALGORITMO PARA ENTRENAR LOS DATOS\n",
    "'''\n",
    "# Creación de una instancia de 'Neighbours Classifier'\n",
    "# Sin atributos, se analizan los datos y se eligen la mejor forma de obtener los k-vecinos\n",
    "neigh = KNeighborsClassifier()\n",
    "#neigh = KNeighborsClassifier(n_neighbors=8, weights='distance', algorithm='auto', n_jobs=-1)\n",
    "\n",
    "# Entrenamiento de los datos\n",
    "neigh.fit(X_train,y_train)"
   ]
  },
  {
   "cell_type": "code",
   "execution_count": 21,
   "metadata": {
    "collapsed": false
   },
   "outputs": [
    {
     "name": "stdout",
     "output_type": "stream",
     "text": [
      "[1500  995 1300 ...,  466  860 1200]\n"
     ]
    }
   ],
   "source": [
    "'''\n",
    "    PREDICCION CON EL SUBCONJUNTO DE PRUEBA\n",
    "'''\n",
    "# Predicción de valores objetivo con el conjunto de prueba\n",
    "# En teoría, X_test debería ser igual a y_test\n",
    "X_predict = neigh.predict(X_test)\n",
    "print X_predict"
   ]
  },
  {
   "cell_type": "code",
   "execution_count": 22,
   "metadata": {
    "collapsed": false
   },
   "outputs": [
    {
     "name": "stdout",
     "output_type": "stream",
     "text": [
      "[ 1600  2200   445 ...,   937 18400  1400]\n"
     ]
    }
   ],
   "source": [
    "print y_test"
   ]
  },
  {
   "cell_type": "code",
   "execution_count": 24,
   "metadata": {
    "collapsed": false
   },
   "outputs": [
    {
     "name": "stdout",
     "output_type": "stream",
     "text": [
      "E:  0.0152\n"
     ]
    }
   ],
   "source": [
    "# Exactitud promedio de la predicción <<<<<<------- ¿?\n",
    "accuracy = neigh.score(X_test, y_test)\n",
    "print 'E: ', accuracy"
    "i = 0\n",
    "yei = 0\n",
    "for i in range(len(X_predict)):\n",
    "    if np.absolute(X_predict[i] - y_test[i]) < 100:\n",
    "        yei = yei + 1\n",
    "print yei/float(len(X_predict))\n",
   ]
  }
 ],
 "metadata": {
  "anaconda-cloud": {},
  "kernelspec": {
   "display_name": "Python [Root]",
   "language": "python",
   "name": "Python [Root]"
  },
  "language_info": {
   "codemirror_mode": {
    "name": "ipython",
    "version": 2
   },
   "file_extension": ".py",
   "mimetype": "text/x-python",
   "name": "python",
   "nbconvert_exporter": "python",
   "pygments_lexer": "ipython2",
   "version": "2.7.12"
  }
 },
 "nbformat": 4,
 "nbformat_minor": 0
}
