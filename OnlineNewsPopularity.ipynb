{
 "cells": [
  {
   "cell_type": "code",
   "execution_count": null,
   "metadata": {
    "collapsed": false
   },
   "outputs": [],
   "source": [
    "'''\n",
    "    LINKS REVISADOS CON EXPLICACIONES DE LA LIBRERIA sklearn.neighbors\n",
    "    \n",
    "    http://scikit-learn.org/stable/tutorial/statistical_inference/supervised_learning.html\n",
    "    http://scikit-learn.org/stable/auto_examples/neighbors/plot_classification.html#example-neighbors-plot-classification-py\n",
    "    http://scikit-learn.org/stable/modules/generated/sklearn.neighbors.KNeighborsClassifier.html#sklearn.neighbors.KNeighborsClassifier.score\n",
    "'''"
   ]
  },
  {
   "cell_type": "code",
   "execution_count": 95,
   "metadata": {
    "collapsed": false
   },
   "outputs": [],
   "source": [
    "'''\n",
    "    PAQUETES UTILIZADOS\n",
    "'''\n",
    "import pandas as pd\n",
    "from sklearn.cross_validation import train_test_split\n",
    "import numpy as np\n",
    "from sklearn.neighbors import KNeighborsClassifier\n",
    "from sklearn.preprocessing import StandardScaler"
   ]
  },
  {
   "cell_type": "code",
   "execution_count": 96,
   "metadata": {
    "collapsed": false
   },
   "outputs": [],
   "source": [
    "'''\n",
    "    OBTENCION DE LOS CONJUNTOS DE DATOS Y DE VALORES OBJETIVO\n",
    "'''\n",
    "# Lectura de la base de datos\n",
    "base = pd.read_csv('OnlineNewsPopularity.csv', sep=\",\")\n",
    "# Subconjunto: 1000 observaciones originales\n",
    "base2 = base[0:1000]\n",
    "\n",
    "# Copia de la base sin la primer columna ('url', atributo no predictivo) y sin la variable objetivo\n",
    "# Matriz de entrenamiento\n",
    "base_X = base2.drop(base.columns[[0,len(base2.columns)-1]], axis=1)\n",
    "\n",
    "# Arreglo de valores objetivo (columna de valores objetivo 'shares')\n",
    "base_y = np.asarray(base2[base2.columns[len(base2.columns)-1]].tolist())"
   ]
  },
  {
   "cell_type": "code",
   "execution_count": 97,
   "metadata": {
    "collapsed": false
   },
   "outputs": [],
   "source": [
    "'''\n",
    "    OBTENCION DE LOS SUBCONJUNTOS DE ENTRENAMIENTO Y DE PRUEBA\n",
    "'''\n",
    "# Obtenemos dos subconjuntos de datos (75% para entrenamiento, 25% para prueba)\n",
    "# len(X_train) = len(y_train) = 750\n",
    "# len(X_test) = len(y_test) = 250\n",
    "# Los índices de ambos conjuntos (train o test) se corresponden de acuerdo a la base de datos original\n",
    "X_train, X_test, y_train, y_test = train_test_split(base_X, base_y, test_size=0.25)"
   ]
  },
  {
   "cell_type": "code",
   "execution_count": 113,
   "metadata": {
    "collapsed": false,
    "scrolled": true
   },
   "outputs": [
    {
     "data": {
      "text/plain": [
       "KNeighborsClassifier(algorithm='auto', leaf_size=30, metric='minkowski',\n",
       "           metric_params=None, n_jobs=1, n_neighbors=5, p=2,\n",
       "           weights='uniform')"
      ]
     },
     "execution_count": 113,
     "metadata": {},
     "output_type": "execute_result"
    }
   ],
   "source": [
    "'''\n",
    "    EJECUCION DEL ALGORITMO PARA ENTRENAR LOS DATOS\n",
    "'''\n",
    "# Creación de una instancia de 'Neighbours Classifier'\n",
    "# Sin atributos, se analizan los datos y se eligen la mejor forma de obtener los k-vecinos\n",
    "neigh = KNeighborsClassifier()\n",
    "#neigh = KNeighborsClassifier(n_neighbors=8, weights='distance', algorithm='auto', n_jobs=-1)\n",
    "\n",
    "# Entrenamiento de los datos\n",
    "neigh.fit(X_train,y_train)"
   ]
  },
  {
   "cell_type": "code",
   "execution_count": 114,
   "metadata": {
    "collapsed": false
   },
   "outputs": [
    {
     "name": "stdout",
     "output_type": "stream",
     "text": [
      "[1200 2900 2300 1300 1700  412 1300  412  454  725  495  445  583  894  432\n",
      " 1500 1100  483  447  429 1100 1500  354 3100  909  864  575 1100 1400  429\n",
      "  586  925  429 1000 1600 2600  440  933  498 1100 1500  504  933  504  396\n",
      " 3100  690  983  718  690 1000 1000  396 2600 1300  432 1200  442  583  930\n",
      " 1300 1900  476  455  715 1200  703  811 2100  764  504  463  432  500  657\n",
      "  495  999  715 1100  308  350  840  354 1200  445 1100 1200 1700  782  504\n",
      "  852  742 1100  447 1700 1000  504 1100  500  603 2300  462  630 1500  575\n",
      " 1400  554 1400 1900  432  476 1600  671 1000 2300  635  508  864  752 1400\n",
      "  560  979  904  902 1100  824  577 1200 1300 1500 1000  835  804  725  462\n",
      "  835 2000 1100 3100 1300  473 1900 1900  308  730 1500  423 1500  615  462\n",
      "  715  835  308  560  925  577  500  676  658 1900 1500  823 1000 1100  752\n",
      " 1600  582  672  513 1300  400  730  701  872  775  866  657  495 2200  416\n",
      "  504  498  671  377 1200  454  476  635  217  900  583 1100  423  425  938\n",
      " 1200  979  603  342  484  581  459 1000  575  495  577  569 1300  799  508\n",
      "  715  560  375  342 4000 1700  561  560 1000  930  368  377  396 2100  217\n",
      "  672 1900  794  463  725  432  560 1000 1100  447  423  577 1300  500  705\n",
      " 1600  866  866  979  721  811 1900  925  936 1100]\n"
     ]
    }
   ],
   "source": [
    "'''\n",
    "    PREDICCION CON EL SUBCONJUNTO DE PRUEBA\n",
    "'''\n",
    "# Predicción de valores objetivo con el conjunto de prueba\n",
    "# En teoría, X_test debería ser igual a y_test\n",
    "X_predict = neigh.predict(X_test)\n",
    "print X_predict"
   ]
  },
  {
   "cell_type": "code",
   "execution_count": 115,
   "metadata": {
    "collapsed": false
   },
   "outputs": [
    {
     "name": "stdout",
     "output_type": "stream",
     "text": [
      "[ 1400   371  2000  1800   837   474   522   450  1300  8900  4600 13600\n",
      "   556  1300  2900  1200 18000 39400   423   581   956   802  6300  1700\n",
      " 39200   438   727  1200  2600   514  5400   940  1300  2000  1500  3900\n",
      "   731  1900  6800   458  5600   851  2500  1900  1500  1400   533  2700\n",
      "  3000   585  1100  5200  3000  4200  5500   645  1100  1900  1900   899\n",
      "  2100  1300  5300  5600   465  2100  1900 12100   751  3900   529   480\n",
      "   660  1000  1200  1200  2900  1000  4500  1300  4800   423   718   592\n",
      "  2800   875   957  1200   884  2100   631   775  3000   518  1800  1600\n",
      "  1000 11900   788  2000  2300  1200   903  1700   727   950  1600  1900\n",
      "   757  1200  1600  2400  2200  2600  1500   568   825   555  1200  2300\n",
      "   532  1600   924  1500  2700  5500   755  9200  1200  3000  2600  3000\n",
      "  2700   712   480  1100  1600  2200  2100   544  1100  2800  2500  2200\n",
      "  3100  6400  2200 11500  2500   545  1100   863  2100   793  6000  1500\n",
      "  1200  1500  3800  2500  2000  1600  3800  3500   606  1500   622   460\n",
      "  2000   649  4200  1800  1000  2400   548   623   737   598  1300  1300\n",
      "  2600   756  5200   720  1300  1100   735  1100   382  3200  2900  1300\n",
      "  1100  1600  1400  4200  3200  1100  1000  1400   405  1000  5900   401\n",
      "  1100  1500 11400   909  1200  2000  2000  3000   445  1700  1500   866\n",
      "   657  3100   971   771  2900  1700   835  3200   536  5400  2200  2500\n",
      "   618  1100   699  1200  1700  1200 15800  5000  2600  9700  1500  4600\n",
      "  1100  1000   705   427   756  1200  1600   589   536   683]\n"
     ]
    }
   ],
   "source": [
    "print y_test"
   ]
  },
  {
   "cell_type": "code",
   "execution_count": 116,
   "metadata": {
    "collapsed": false
   },
   "outputs": [
    {
     "name": "stdout",
     "output_type": "stream",
     "text": [
      "E:  0.004\n"
     ]
    }
   ],
   "source": [
    "# Exactitud promedio de la predicción <<<<<<------- ¿?\n",
    "accuracy = neigh.score(X_test, y_test)\n",
    "print 'E: ', accuracy"
   ]
  }
 ],
 "metadata": {
  "anaconda-cloud": {},
  "kernelspec": {
   "display_name": "Python [Root]",
   "language": "python",
   "name": "Python [Root]"
  },
  "language_info": {
   "codemirror_mode": {
    "name": "ipython",
    "version": 2
   },
   "file_extension": ".py",
   "mimetype": "text/x-python",
   "name": "python",
   "nbconvert_exporter": "python",
   "pygments_lexer": "ipython2",
   "version": "2.7.12"
  }
 },
 "nbformat": 4,
 "nbformat_minor": 0
}
