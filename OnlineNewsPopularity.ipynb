{
 "cells": [
  {
   "cell_type": "code",
   "execution_count": null,
   "metadata": {
    "collapsed": false
   },
   "outputs": [],
   "source": [
    "'''\n",
    "    LINKS REVISADOS CON EXPLICACIONES DE LA LIBRERIA sklearn.neighbors\n",
    "    \n",
    "    http://scikit-learn.org/stable/tutorial/statistical_inference/supervised_learning.html\n",
    "    http://scikit-learn.org/stable/auto_examples/neighbors/plot_classification.html#example-neighbors-plot-classification-py\n",
    "    http://scikit-learn.org/stable/modules/generated/sklearn.neighbors.KNeighborsClassifier.html#sklearn.neighbors.KNeighborsClassifier.score\n",
    "'''"
   ]
  },
  {
   "cell_type": "code",
   "execution_count": 1,
   "metadata": {
    "collapsed": false
   },
   "outputs": [],
   "source": [
    "'''\n",
    "    PAQUETES UTILIZADOS\n",
    "'''\n",
    "import pandas as pd\n",
    "from sklearn.cross_validation import train_test_split\n",
    "from sklearn.neighbors import KNeighborsClassifier\n",
    "from sklearn.preprocessing import StandardScaler\n",
    "import matplotlib.pyplot as plt\n",
    "import numpy as np\n",
    "%matplotlib inline"
   ]
  },
  {
   "cell_type": "code",
   "execution_count": 3,
   "metadata": {
    "collapsed": true
   },
   "outputs": [],
   "source": [
    "'''\n",
    "    FUNCION init\n",
    "    Regresa el conjunto de datos \"base_X\" y el conjunto de valores objetivo \"base_y\"\n",
    "'''\n",
    "def init():\n",
    "    # Lectura de la base de datos\n",
    "    base = pd.read_csv('OnlineNewsPopularity.csv', sep=\",\")\n",
    "    # Subconjunto: 10000 observaciones originales\n",
    "    base2 = base[0:10000]\n",
    "\n",
    "    # Copia de la base sin la primer columna ('url', atributo no predictivo) y sin la variable objetivo\n",
    "    # Matriz de entrenamiento\n",
    "    base_X = base2.drop(base.columns[[0,1,len(base2.columns)-1]], axis=1)\n",
    "\n",
    "    # Arreglo de valores objetivo (columna de valores objetivo 'shares')\n",
    "    base_y = np.asarray(base2[base2.columns[len(base2.columns)-1]].tolist())\n",
    "    \n",
    "    return base_X, base_y"
   ]
  },
  {
   "cell_type": "code",
   "execution_count": 5,
   "metadata": {
    "collapsed": true
   },
   "outputs": [],
   "source": [
    "'''\n",
    "    FUNCION subConjEst\n",
    "    Recibe el conjunto de datos \"base_X\" y el conjunto de valores objetivo \"base_y\"\n",
    "    Regresa los conjuntos de entrenamiento \"X_train\" (estandarizado) y \"y_train\", así como\n",
    "        los conjuntos \"X_test\" (estandarizado) y \"y_test\"\n",
    "'''\n",
    "def subConjEst(base_X, base_y):\n",
    "    # len(X_train) = len(y_train) = 750\n",
    "    # len(X_test) = len(y_test) = 250\n",
    "    # Los índices de ambos conjuntos (train o test) se corresponden de acuerdo a la base de datos original\n",
    "    X_train, X_test, y_train, y_test = train_test_split(base_X, base_y, test_size=0.25)\n",
    "\n",
    "    # Estandarización de los datos con respecto a su subconjunto\n",
    "    X_train = StandardScaler().fit_transform(X_train, y_train)\n",
    "    X_test = StandardScaler().fit_transform(X_test, y_train)\n",
    "    \n",
    "    return X_train, X_test, y_train, y_test"
   ]
  },
  {
   "cell_type": "code",
   "execution_count": 11,
   "metadata": {
    "collapsed": true
   },
   "outputs": [],
   "source": [
    "'''\n",
    "    FUNCION predict\n",
    "    Recibe los conjuntos de entrenamiento \"X_train\" y \"y_train\", así como el de prueba \"X_test\"\n",
    "    Regresa el conjunto de valores predecidos en el arreglo \"X_predict\"\n",
    "'''\n",
    "def predict(X_train, y_train, X_test):\n",
    "    # Creación de una instancia de 'Neighbours Classifier'\n",
    "    # Sin atributos, se analizan los datos y se eligen la mejor forma de obtener los k-vecinos\n",
    "    neigh = KNeighborsClassifier()\n",
    "    #neigh = KNeighborsClassifier(n_neighbors=8, weights='distance', algorithm='auto', n_jobs=-1)\n",
    "\n",
    "    # Entrenamiento de los datos\n",
    "    neigh.fit(X_train,y_train)\n",
    "    \n",
    "    # Predicción de valores objetivo con el conjunto de prueba\n",
    "    # En teoría, X_test debería ser igual a y_test\n",
    "    X_predict = neigh.predict(X_test)\n",
    "    \n",
    "    # Exactitud promedio de la predicción calculada con la librería\n",
    "    accuracy = neigh.score(X_test, y_test)\n",
    "    print 'Accuracy: ', accuracy\n",
    "    \n",
    "    return X_predict"
   ]
  },
  {
   "cell_type": "code",
   "execution_count": 2,
   "metadata": {
    "collapsed": true
   },
   "outputs": [],
   "source": [
    "'''\n",
    "    FUNCION error_fn\n",
    "    Recibe el arreglo con valores a predecir \"X_predict\", el arreglo de valores esperados \"y_test\"\n",
    "        y el valor de tolerancia \"k\"\n",
    "    Regresa el porcentaje de acierto de la predicción\n",
    "'''\n",
    "def error_fn(X_predict, y_test, k):\n",
    "    i = 0\n",
    "    yei = 0\n",
    "    for i in range(len(X_predict)):\n",
    "        if np.absolute(X_predict[i] - y_test[i]) < k:\n",
    "            yei = yei + 1\n",
    "    return yei/float(len(X_predict))"
   ]
  },
  {
   "cell_type": "code",
   "execution_count": 14,
   "metadata": {
    "collapsed": false
   },
   "outputs": [
    {
     "name": "stdout",
     "output_type": "stream",
     "text": [
      "Accuracy:  0.0108\n"
     ]
    }
   ],
   "source": [
    "'''\n",
    "    PRUEBA DEL METODO\n",
    "'''\n",
    "# Obtenemos los conjuntos de datos y de valores objetivo\n",
    "base_X, base_y = init()\n",
    "\n",
    "# Obtenemos subconjuntos de datos (75% para entrenamiento, 25% para prueba)\n",
    "X_train, X_test, y_train, y_test = subConjEst(base_X, base_y)\n",
    "\n",
    "# Predicción del número de \"shares\"\n",
    "X_predict = predict(X_train, y_train, X_test)"
   ]
  },
  {
   "cell_type": "code",
   "execution_count": 16,
   "metadata": {
    "collapsed": false
   },
   "outputs": [
    {
     "name": "stdout",
     "output_type": "stream",
     "text": [
      "Valores esperados \n",
      "[1000 1600 7800 ..., 1200 1900  808]\n",
      "Valores predecidos \n",
      "[ 775 1700 1200 ...,  437 1600  805] \n",
      "\n"
     ]
    }
   ],
   "source": [
    "'''\n",
    "    IMPRESION DE VALORES\n",
    "'''\n",
    "print 'Valores esperados', y_test\n",
    "print 'Valores predecidos', X_predict"
   ]
  },
  {
   "cell_type": "code",
   "execution_count": 17,
   "metadata": {
    "collapsed": false
   },
   "outputs": [
    {
     "name": "stdout",
     "output_type": "stream",
     "text": [
      "Máximo acierto con k = 850\n"
     ]
    },
    {
     "data": {
      "image/png": "[encoded data removed]",
      "text/plain": [
       "<matplotlib.figure.Figure at 0x1189735d0>"
      ]
     },
     "metadata": {},
     "output_type": "display_data"
    }
   ],
   "source": [
    "'''\n",
    "    OBTENCION DE UN K MAXIMO \n",
    "    %Acierto vs. K\n",
    "'''\n",
    "# Cálculo de error para k vecinos (rango [100 : 50 : 1000])\n",
    "err_arr = []\n",
    "arr = np.arange(100, 1050, 50)\n",
    "for i in arr:\n",
    "    neigh = KNeighborsClassifier(n_neighbors=i, n_jobs=-1)\n",
    "    neigh.fit(X_train,y_train)\n",
    "    X_predict = neigh.predict(X_test)\n",
    "    # Rango de tolerancia de 500 vecinos\n",
    "    err = error_fn(X_predict, y_test, 500)\n",
    "    err_arr.append(err)\n",
    "\n",
    "# Graficación de resultados\n",
    "plt.scatter(arr, err_arr)\n",
    "\n",
    "# Encontrar el k máximo con esta prueba\n",
    "maxi = err_arr.index(max(err_arr))\n",
    "maxi = arr[maxi]\n",
    "print 'Máximo acierto con k =', maxi"
   ]
  },
  {
   "cell_type": "code",
   "execution_count": 18,
   "metadata": {
    "collapsed": false
   },
   "outputs": [],
   "source": [
    "'''\n",
    "    PRUEBAS DE MARGEN DE ERROR\n",
    "    Con el k máximo obtenido \"maxi\"\n",
    "'''\n",
    "neigh = KNeighborsClassifier(n_neighbors=maxi, n_jobs=-1)\n",
    "neigh.fit(X_train,y_train)\n",
    "X_predict = neigh.predict(X_test)"
   ]
  },
  {
   "cell_type": "code",
   "execution_count": 19,
   "metadata": {
    "collapsed": false
   },
   "outputs": [
    {
     "data": {
      "text/plain": [
       "<matplotlib.collections.PathCollection at 0x11893a390>"
      ]
     },
     "execution_count": 19,
     "metadata": {},
     "output_type": "execute_result"
    },
    {
     "data": {
      "image/png": "[encoded data removed]",
      "text/plain": [
       "<matplotlib.figure.Figure at 0x11893a250>"
      ]
     },
     "metadata": {},
     "output_type": "display_data"
    }
   ],
   "source": [
    "# Margen de error rango [100 : 100 : 2000]\n",
    "err_arr = []\n",
    "arr = np.arange(100, 2100, 100)\n",
    "for i in arr:\n",
    "    err = error_fn(X_predict, y_test, i)\n",
    "    err_arr.append(err)\n",
    "plt.scatter(arr, err_arr)"
   ]
  }
 ],
 "metadata": {
  "anaconda-cloud": {},
  "kernelspec": {
   "display_name": "Python [Root]",
   "language": "python",
   "name": "Python [Root]"
  },
  "language_info": {
   "codemirror_mode": {
    "name": "ipython",
    "version": 2
   },
   "file_extension": ".py",
   "mimetype": "text/x-python",
   "name": "python",
   "nbconvert_exporter": "python",
   "pygments_lexer": "ipython2",
   "version": "2.7.12"
  }
 },
 "nbformat": 4,
 "nbformat_minor": 0
}
